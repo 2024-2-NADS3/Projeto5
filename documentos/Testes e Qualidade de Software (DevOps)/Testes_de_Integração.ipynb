{
  "nbformat": 4,
  "nbformat_minor": 0,
  "metadata": {
    "colab": {
      "provenance": []
    },
    "kernelspec": {
      "name": "python3",
      "display_name": "Python 3"
    },
    "language_info": {
      "name": "python"
    }
  },
  "cells": [
    {
      "cell_type": "code",
      "execution_count": null,
      "metadata": {
        "id": "mWPSyrjQJoUc"
      },
      "outputs": [],
      "source": [
        "import unittest\n",
        "from app import login, home\n",
        "\n",
        "class TestFluxoLogin(unittest.TestCase):\n",
        "    def test_fluxo_login_completo(self):\n",
        "        # Testa o fluxo completo de login e redirecionamento para a home\n",
        "        usuario = \"usuario_teste\"\n",
        "        senha = \"senha_teste\"\n",
        "        login_resultado = login(usuario, senha)\n",
        "        self.assertEqual(login_resultado, \"Login bem-sucedido\")\n",
        "\n",
        "        # Verifica se, após o login, a tela inicial da home é carregada\n",
        "        home_resultado = home()\n",
        "        self.assertEqual(home_resultado, \"Tela inicial da home carregada\")\n",
        "\n",
        "if __name__ == '__main__':\n",
        "    unittest.main()\n",
        "\n",
        "# Aqui, testei o fluxo de login e a navegação até a tela inicial (home).\n",
        "# Primeiro, o login ocorre com sucesso e depois validamos se a home é\n",
        "# carregada corretamente, simulando um fluxo real do app."
      ]
    },
    {
      "cell_type": "code",
      "source": [
        "import unittest\n",
        "from app import ir_para_home, ir_para_receitas, ir_para_detalhes_receita\n",
        "\n",
        "class TestFluxoNavegacao(unittest.TestCase):\n",
        "    def test_fluxo_completo_navegacao(self):\n",
        "        # Primeiro, verificamos se a home é carregada\n",
        "        home_resultado = ir_para_home()\n",
        "        self.assertEqual(home_resultado, \"Tela inicial da home carregada\")\n",
        "\n",
        "        # Em seguida, testamos a navegação até a página de receitas\n",
        "        receitas_resultado = ir_para_receitas()\n",
        "        self.assertEqual(receitas_resultado, \"Página de receitas carregada com sucesso\")\n",
        "\n",
        "        # Por fim, testamos a navegação até a página de detalhes da receita\n",
        "        detalhes_resultado = ir_para_detalhes_receita()\n",
        "        self.assertEqual(detalhes_resultado, \"Página de detalhes da receita carregada\")\n",
        "\n",
        "if __name__ == '__main__':\n",
        "    unittest.main()\n",
        "\n",
        "\n",
        "# Nesse teste, simulei a navegação entre várias telas. O fluxo começa com a home,\n",
        "# vai para a página de receitas e depois para os detalhes de uma receita específica.\n",
        "# Isso garante que a navegação entre as telas está funcionando conforme o esperado."
      ],
      "metadata": {
        "id": "HlDMPfYjKTyK"
      },
      "execution_count": null,
      "outputs": []
    }
  ]
}