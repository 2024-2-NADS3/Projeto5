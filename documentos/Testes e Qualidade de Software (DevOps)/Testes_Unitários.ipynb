{
  "nbformat": 4,
  "nbformat_minor": 0,
  "metadata": {
    "colab": {
      "provenance": []
    },
    "kernelspec": {
      "name": "python3",
      "display_name": "Python 3"
    },
    "language_info": {
      "name": "python"
    }
  },
  "cells": [
    {
      "cell_type": "code",
      "execution_count": 2,
      "metadata": {
        "colab": {
          "base_uri": "https://localhost:8080/",
          "height": 384
        },
        "id": "uHjGiEuSNLuQ",
        "outputId": "73b0eb8a-8a93-464b-e018-1c63c7d9fa9b"
      },
      "outputs": [
        {
          "output_type": "error",
          "ename": "ModuleNotFoundError",
          "evalue": "No module named 'app'",
          "traceback": [
            "\u001b[0;31m---------------------------------------------------------------------------\u001b[0m",
            "\u001b[0;31mModuleNotFoundError\u001b[0m                       Traceback (most recent call last)",
            "\u001b[0;32m<ipython-input-2-83b1ffbbe577>\u001b[0m in \u001b[0;36m<cell line: 2>\u001b[0;34m()\u001b[0m\n\u001b[1;32m      1\u001b[0m \u001b[0;32mimport\u001b[0m \u001b[0munittest\u001b[0m\u001b[0;34m\u001b[0m\u001b[0;34m\u001b[0m\u001b[0m\n\u001b[0;32m----> 2\u001b[0;31m \u001b[0;32mfrom\u001b[0m \u001b[0mapp\u001b[0m \u001b[0;32mimport\u001b[0m \u001b[0mlogin\u001b[0m\u001b[0;34m\u001b[0m\u001b[0;34m\u001b[0m\u001b[0m\n\u001b[0m\u001b[1;32m      3\u001b[0m \u001b[0;34m\u001b[0m\u001b[0m\n\u001b[1;32m      4\u001b[0m \u001b[0;32mclass\u001b[0m \u001b[0mTestLogin\u001b[0m\u001b[0;34m(\u001b[0m\u001b[0munittest\u001b[0m\u001b[0;34m.\u001b[0m\u001b[0mTestCase\u001b[0m\u001b[0;34m)\u001b[0m\u001b[0;34m:\u001b[0m\u001b[0;34m\u001b[0m\u001b[0;34m\u001b[0m\u001b[0m\n\u001b[1;32m      5\u001b[0m     \u001b[0;32mdef\u001b[0m \u001b[0mtest_login_valido\u001b[0m\u001b[0;34m(\u001b[0m\u001b[0mself\u001b[0m\u001b[0;34m)\u001b[0m\u001b[0;34m:\u001b[0m\u001b[0;34m\u001b[0m\u001b[0;34m\u001b[0m\u001b[0m\n",
            "\u001b[0;31mModuleNotFoundError\u001b[0m: No module named 'app'",
            "",
            "\u001b[0;31m---------------------------------------------------------------------------\u001b[0;32m\nNOTE: If your import is failing due to a missing package, you can\nmanually install dependencies using either !pip or !apt.\n\nTo view examples of installing some common dependencies, click the\n\"Open Examples\" button below.\n\u001b[0;31m---------------------------------------------------------------------------\u001b[0m\n"
          ],
          "errorDetails": {
            "actions": [
              {
                "action": "open_url",
                "actionText": "Open Examples",
                "url": "/notebooks/snippets/importing_libraries.ipynb"
              }
            ]
          }
        }
      ],
      "source": [
        "import unittest\n",
        "from app import login\n",
        "\n",
        "class TestLogin(unittest.TestCase):\n",
        "    def test_login_valido(self):\n",
        "        # Teste com login e senha válidos\n",
        "        usuario = \"usuario_teste\"\n",
        "        senha = \"senha_teste\"\n",
        "        resultado = login(usuario, senha)\n",
        "        self.assertEqual(resultado, \"Login bem-sucedido\")\n",
        "\n",
        "    def test_login_invalido(self):\n",
        "        # Teste com login ou senha inválidos\n",
        "        usuario = \"usuario_errado\"\n",
        "        senha = \"senha_errada\"\n",
        "        resultado = login(usuario, senha)\n",
        "        self.assertEqual(resultado, \"Login ou senha incorretos\")\n",
        "\n",
        "if __name__ == '__main__':\n",
        "    unittest.main()\n",
        "\n",
        "# Testei as funções de login com dados válidos e inválidos.\n",
        "# Isso é importante porque a tela de login precisa garantir\n",
        "# que o usuário tenha acesso apenas se as credenciais estiverem corretas."
      ]
    },
    {
      "cell_type": "code",
      "source": [
        "import unittest\n",
        "from app import cadastro\n",
        "\n",
        "class TestCadastro(unittest.TestCase):\n",
        "    def test_cadastro_valido(self):\n",
        "        # Teste com dados de cadastro válidos\n",
        "        usuario = \"novo_usuario\"\n",
        "        senha = \"senha_segura\"\n",
        "        email = \"email@teste.com\"\n",
        "        resultado = cadastro(usuario, senha, email)\n",
        "        self.assertEqual(resultado, \"Cadastro realizado com sucesso\")\n",
        "\n",
        "    def test_cadastro_invalido(self):\n",
        "        # Teste com dados inválidos (campo vazio)\n",
        "        usuario = \"\"\n",
        "        senha = \"senha_segura\"\n",
        "        email = \"email@teste.com\"\n",
        "        resultado = cadastro(usuario, senha, email)\n",
        "        self.assertEqual(resultado, \"Usuário não pode estar vazio\")\n",
        "\n",
        "if __name__ == '__main__':\n",
        "    unittest.main()\n",
        "\n",
        "# Realizei testes para verificar se o cadastro está funcionando corretamente.\n",
        "# Também coloquei um cenário onde o usuário tenta se cadastrar sem preencher\n",
        "# o nome de usuário, o que não pode acontecer."
      ],
      "metadata": {
        "colab": {
          "base_uri": "https://localhost:8080/",
          "height": 384
        },
        "id": "j8Ey-juXSXhE",
        "outputId": "af7f33fc-26b3-4cdb-a800-794d62245a22"
      },
      "execution_count": 3,
      "outputs": [
        {
          "output_type": "error",
          "ename": "ModuleNotFoundError",
          "evalue": "No module named 'app'",
          "traceback": [
            "\u001b[0;31m---------------------------------------------------------------------------\u001b[0m",
            "\u001b[0;31mModuleNotFoundError\u001b[0m                       Traceback (most recent call last)",
            "\u001b[0;32m<ipython-input-3-0cee1d4ee273>\u001b[0m in \u001b[0;36m<cell line: 2>\u001b[0;34m()\u001b[0m\n\u001b[1;32m      1\u001b[0m \u001b[0;32mimport\u001b[0m \u001b[0munittest\u001b[0m\u001b[0;34m\u001b[0m\u001b[0;34m\u001b[0m\u001b[0m\n\u001b[0;32m----> 2\u001b[0;31m \u001b[0;32mfrom\u001b[0m \u001b[0mapp\u001b[0m \u001b[0;32mimport\u001b[0m \u001b[0mcadastro\u001b[0m\u001b[0;34m\u001b[0m\u001b[0;34m\u001b[0m\u001b[0m\n\u001b[0m\u001b[1;32m      3\u001b[0m \u001b[0;34m\u001b[0m\u001b[0m\n\u001b[1;32m      4\u001b[0m \u001b[0;32mclass\u001b[0m \u001b[0mTestCadastro\u001b[0m\u001b[0;34m(\u001b[0m\u001b[0munittest\u001b[0m\u001b[0;34m.\u001b[0m\u001b[0mTestCase\u001b[0m\u001b[0;34m)\u001b[0m\u001b[0;34m:\u001b[0m\u001b[0;34m\u001b[0m\u001b[0;34m\u001b[0m\u001b[0m\n\u001b[1;32m      5\u001b[0m     \u001b[0;32mdef\u001b[0m \u001b[0mtest_cadastro_valido\u001b[0m\u001b[0;34m(\u001b[0m\u001b[0mself\u001b[0m\u001b[0;34m)\u001b[0m\u001b[0;34m:\u001b[0m\u001b[0;34m\u001b[0m\u001b[0;34m\u001b[0m\u001b[0m\n",
            "\u001b[0;31mModuleNotFoundError\u001b[0m: No module named 'app'",
            "",
            "\u001b[0;31m---------------------------------------------------------------------------\u001b[0;32m\nNOTE: If your import is failing due to a missing package, you can\nmanually install dependencies using either !pip or !apt.\n\nTo view examples of installing some common dependencies, click the\n\"Open Examples\" button below.\n\u001b[0;31m---------------------------------------------------------------------------\u001b[0m\n"
          ],
          "errorDetails": {
            "actions": [
              {
                "action": "open_url",
                "actionText": "Open Examples",
                "url": "/notebooks/snippets/importing_libraries.ipynb"
              }
            ]
          }
        }
      ]
    },
    {
      "cell_type": "code",
      "source": [
        "import unittest\n",
        "from app import ir_para_perfil\n",
        "\n",
        "class TestNavegacaoPerfil(unittest.TestCase):\n",
        "    def test_navegacao_para_perfil(self):\n",
        "        # Verifica se ao clicar no ícone de perfil, a navegação ocorre corretamente\n",
        "        resultado = ir_para_perfil()\n",
        "        self.assertEqual(resultado, \"Página de perfil carregada com sucesso\")\n",
        "\n",
        "if __name__ == '__main__':\n",
        "    unittest.main()\n",
        "\n",
        "# Testei a navegação para a tela de perfil, que é um dos ícones no rodapé.\n",
        "# Isso garante que ao clicar no ícone, a página do perfil será carregada corretamente."
      ],
      "metadata": {
        "colab": {
          "base_uri": "https://localhost:8080/",
          "height": 384
        },
        "id": "Qs1jXvwtSwW5",
        "outputId": "38328633-9c8e-4723-8fee-a010c09b0f1d"
      },
      "execution_count": 4,
      "outputs": [
        {
          "output_type": "error",
          "ename": "ModuleNotFoundError",
          "evalue": "No module named 'app'",
          "traceback": [
            "\u001b[0;31m---------------------------------------------------------------------------\u001b[0m",
            "\u001b[0;31mModuleNotFoundError\u001b[0m                       Traceback (most recent call last)",
            "\u001b[0;32m<ipython-input-4-85f2c2a716c1>\u001b[0m in \u001b[0;36m<cell line: 2>\u001b[0;34m()\u001b[0m\n\u001b[1;32m      1\u001b[0m \u001b[0;32mimport\u001b[0m \u001b[0munittest\u001b[0m\u001b[0;34m\u001b[0m\u001b[0;34m\u001b[0m\u001b[0m\n\u001b[0;32m----> 2\u001b[0;31m \u001b[0;32mfrom\u001b[0m \u001b[0mapp\u001b[0m \u001b[0;32mimport\u001b[0m \u001b[0mir_para_perfil\u001b[0m\u001b[0;34m\u001b[0m\u001b[0;34m\u001b[0m\u001b[0m\n\u001b[0m\u001b[1;32m      3\u001b[0m \u001b[0;34m\u001b[0m\u001b[0m\n\u001b[1;32m      4\u001b[0m \u001b[0;32mclass\u001b[0m \u001b[0mTestNavegacaoPerfil\u001b[0m\u001b[0;34m(\u001b[0m\u001b[0munittest\u001b[0m\u001b[0;34m.\u001b[0m\u001b[0mTestCase\u001b[0m\u001b[0;34m)\u001b[0m\u001b[0;34m:\u001b[0m\u001b[0;34m\u001b[0m\u001b[0;34m\u001b[0m\u001b[0m\n\u001b[1;32m      5\u001b[0m     \u001b[0;32mdef\u001b[0m \u001b[0mtest_navegacao_para_perfil\u001b[0m\u001b[0;34m(\u001b[0m\u001b[0mself\u001b[0m\u001b[0;34m)\u001b[0m\u001b[0;34m:\u001b[0m\u001b[0;34m\u001b[0m\u001b[0;34m\u001b[0m\u001b[0m\n",
            "\u001b[0;31mModuleNotFoundError\u001b[0m: No module named 'app'",
            "",
            "\u001b[0;31m---------------------------------------------------------------------------\u001b[0;32m\nNOTE: If your import is failing due to a missing package, you can\nmanually install dependencies using either !pip or !apt.\n\nTo view examples of installing some common dependencies, click the\n\"Open Examples\" button below.\n\u001b[0;31m---------------------------------------------------------------------------\u001b[0m\n"
          ],
          "errorDetails": {
            "actions": [
              {
                "action": "open_url",
                "actionText": "Open Examples",
                "url": "/notebooks/snippets/importing_libraries.ipynb"
              }
            ]
          }
        }
      ]
    },
    {
      "cell_type": "code",
      "source": [
        "import unittest\n",
        "from app import ir_para_receitas\n",
        "\n",
        "class TestNavegacaoReceitas(unittest.TestCase):\n",
        "    def test_navegacao_para_receitas(self):\n",
        "        # Verifica se a navegação para a página de receitas funciona\n",
        "        resultado = ir_para_receitas()\n",
        "        self.assertEqual(resultado, \"Página de receitas carregada com sucesso\")\n",
        "\n",
        "if __name__ == '__main__':\n",
        "    unittest.main()\n",
        "\n",
        "# Aqui, fiz o teste para garantir que a navegação até a página de receitas está\n",
        "# funcionando corretamente quando o usuário clica no ícone correspondente.\n",
        "\n"
      ],
      "metadata": {
        "id": "bIjH-mNiS1Le"
      },
      "execution_count": null,
      "outputs": []
    }
  ]
}